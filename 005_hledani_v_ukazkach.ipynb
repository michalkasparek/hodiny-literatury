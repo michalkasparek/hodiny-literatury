{
 "cells": [
  {
   "cell_type": "code",
   "execution_count": 20,
   "id": "4e1bc7c3-6e45-433a-a8f6-86b768dc1b2e",
   "metadata": {},
   "outputs": [],
   "source": [
    "import os\n",
    "import re"
   ]
  },
  {
   "cell_type": "code",
   "execution_count": 3,
   "id": "e8c91da0-2e4b-4ca1-be24-7d7de5296ac1",
   "metadata": {},
   "outputs": [],
   "source": [
    "odkud = \"../knizni-peoplemetr/data_raw/ebooky\""
   ]
  },
  {
   "cell_type": "code",
   "execution_count": 123,
   "id": "799d542b-a03c-4d91-8ca9-0dcf333caaf0",
   "metadata": {},
   "outputs": [],
   "source": [
    "def remove_non_letters(input_string):\n",
    "        # Define an empty string to store our result\n",
    "        result_string = ''\n",
    "\n",
    "        # Loop through each character in the given string\n",
    "        for character in input_string:\n",
    "            # If the character is a letter or whitespace\n",
    "            if character.isalnum() or character.isspace() or (character in [':','.',';','?','!',',']):\n",
    "                # Include it in our result string\n",
    "                result_string += character\n",
    "\n",
    "        # Return the cleaned string\n",
    "        return result_string"
   ]
  },
  {
   "cell_type": "code",
   "execution_count": 125,
   "id": "59c9a04f-9774-4584-8213-a92d212dd05e",
   "metadata": {},
   "outputs": [],
   "source": [
    "ukazky = []\n",
    "for i in os.listdir(odkud):\n",
    "    ukazka = {}\n",
    "    ukazka['isbn'] = i.replace('.txt','')\n",
    "    with open(os.path.join(odkud, i), 'r', encoding='utf-8') as u:\n",
    "        text = u.read().splitlines()\n",
    "        ukazka['text'] = [remove_non_letters(x.replace('\\t','').replace('\\xa0',' ')) for x in text]\n",
    "    ukazky.append(ukazka)"
   ]
  },
  {
   "cell_type": "code",
   "execution_count": 175,
   "id": "14bf97a7-11be-4b23-8784-2611dc6c37b0",
   "metadata": {},
   "outputs": [
    {
     "name": "stdout",
     "output_type": "stream",
     "text": [
      "9788024376431: Přehlednou se zdála i ulice, přes kterou se Velichovský v jejím užším a chodcům nevyhrazeném místě rozhodl krokem nepříliš jistým přejít. Jiný názor na přehlednost měla v téže chvíli  byl čtvrtek, 17 hodin a 45 minut  dvoučlenná posádka rychle jedoucího motocyklu. Náraz, jemuž se nedalo zabránit, poslal k zemi všechny tři. Ti dva z motocyklu, byli to zhruba dvacetiletí zdejší mládenci, z místa nehody jakž takž odkulhali. Pro dvaapadesátiletého inženýra Radomíra Velichovského, který krvácel a byl v bezvědomí, musela však přijet sanitka. \n",
      "\n",
      "9788056622438: Mesiac pred Cestou hrdinov SNP sme sa vydali za pani Emíliou Šipulovou, ktorá je jednou z posledných pamätníčok vypálenia osady Mladoňov nacistami. O tejto tragédii napísala niekoľko kníh a jej zážitky tvoria dôležité kúsky skladačky mojej cesty. Od začiatku som vedela, že nechcem behať ako Forrest Gump  odnikadiaľ nikam a tam sa otočiť a bežať naspäť. Na druhej strane, nie som elitná bežkyňa, aby som mohla vytvárať rekordy, v bežeckom svete nazývané FKT  Fastest Known Time. Ide o najrýchlejší známy čas, za ktorý niekto zabehol danú trasu. Na Slovensku drží tento rekord z roku 2018 Ivan Mudroň, skvelý slovenský ultrabežec, ktorý Cestu hrdinov SNP zabehol v úžasnom čase 8 dní, 16 hodín a 54 minút. Ja eliťáčka nie som. Som len dievča, ktoré rado a veľa behá. Možno sa v kontexte niektorých mojich výkonov môže zdať toto tvrdenie vtipné, ale nič viac v tom nie je. Chcem behať, pretože ma to baví, a chcem tým písať príbehy. A nielen svoje. Príbehy, ktoré dokážu pohnúť srdcom a ktoré robia svet lepším. Aj preto vznikla myšlienka venovať Cestu hrdinov SNP neznámym hrdinkám. Ženám, ktoré nikdy nenosili na saku desiatky ocenení, ktoré na oslavách 29. augusta v Banskej Bystrici nikdy nesedeli v prvom rade a nepotriasli si rukou s vysokými štátnymi predstaviteľmi, ktoré nikdy nedržali v ruke zbraň, a predsa zviedli boj, čo navždy zmenil ich životy. A zmenil i naše životy, hoci sme dnes príliš zaneprázdnení, aby sme nad tým premýšľali či nebodaj si hlbšie uvedomili ich posolstvo. Zažili hrôzy vojny a ich autentické svedectvo má i po desiatkach rokov odkaz, ktorý rezonuje. \n",
      "\n",
      "9788076831063: Měsíc před Cestou hrdinů SNP jsme se vydali za paní Emílií Šipulovou, která je jednou z posledních pamětnic vypálení osady Mladoňov nacisty. O této tragédii napsala několik knih a pro mě se její zážitky staly důležitými střípky do mozaiky mé vlastní cesty. Od začátku jsem věděla, že nechci běhat jako Forrest Gump, odnikud nikam a tam se otočit a běžet zpátky. Na druhé straně nejsem elitním běžcem, abych uměla dělat rekordy, v běžeckém světě nazývané FKT  Fastest Known Time. Jedná se o nejrychlejší známý čas z dané trasy, na Slovensku drží tento rekord z roku 2018 Ivan Mudroň, skvělý slovenský ultraběžec, který trasu SNP zaběhl v úžasném čase 8 dní, 16 hodin a 54 minut. Já nejsem eliťák. Jsem jen holka, která ráda a hodně běhá. Možná se v kontextu některých mých výkonů může zdát tohle tvrzení vtipné, ale nic víc v tom vlastně není. Chci běhat, protože mě to baví a chci tím psát příběhy. A nejen svoje. Příběhy, které dokážou pohnout srdcem a které dělají svět lepším.  \n",
      "\n"
     ]
    }
   ],
   "source": [
    "for ukazka in ukazky:\n",
    "    for isbn, text in ukazka.items():\n",
    "        for odstavec in text:\n",
    "            if re.search(r' a \\d{2} min', odstavec):\n",
    "                print(f\"{ukazka['isbn']}: {odstavec} \\n\")"
   ]
  },
  {
   "cell_type": "code",
   "execution_count": 163,
   "id": "14e1a5b4-4207-4d5b-ba0b-fe3a2b85c8b2",
   "metadata": {},
   "outputs": [
    {
     "name": "stdout",
     "output_type": "stream",
     "text": [
      "9788020460776: Je deset hodin dvacet minut dne 14. května 2021 \n",
      "\n",
      "9788025359082: Nejspíš máme ovšem každý jiné vnímání času. Zatímco v mém světě trvá hodina šedesát minut, v tom tátově jich má asi tak sedmkrát víc. Když jdu totiž s odbíjením zámeckých hodin přesně o půlnoci spát, táta doma stále ještě není.3. KAPITOLA \n",
      "\n",
      "9788025740460: Během třiceti devíti dní brutálního ruského obléhání a bombardování, které mělo průmyslové město před sebou, se absolventům kurzů Dmytra hodila každá minuta strávená v instruktážním bunkru. Na sedm set padesát civilistů čekala při ruském obléhání smrt, rozsáhlé čtvrti masivní bombardování a ničení.  \n",
      "\n",
      "9788026723035: No tak jááá, která chodí všude pozdě, jsem na akci velvyslanectví dorazila včas. Lépe řečeno předčasně. Večírek měl začít v osmnáct hodin osmnáct minut. Byla jsem na místě přesně v osmnáct! Musím dodat, že prvního dubna se v Paříži očekávalo už jarní počasí, vlahý vzduch a příjemná svěžest pučících květů. Hahááá! Velký omyl! Prvního dubna byly v Paříži mrazy, foukalo a posněhávalo a bylo vysloveně hnusně. Tetelila jsem se před nádhernou budovou velvyslanectví jako zkřehlá jezinka, která chce do dveří k teploučku jen prstíček strčit. \n",
      "\n",
      "9788075885227: Vím, řekla. Na čtyřicet šest hodin osmačtyřicet minut. Ale i tak si dávejte pozor. A hlavně zůstaňte v klidu. Pan Chéng Lóng tu bude zítra ve čtrnáct a určitě vám pomůže víc než já. \n",
      "\n",
      "9788075885227: S takovými a podobnými úvahami jsem usínal v trubce a s nimi se probudil a doprovázely mě až do čtrnácté hodiny dvanácté minuty následujícího dne, kdy jsem zase vcházel do info budky číslo šest.3 \n",
      "\n",
      "9788076625327: Přišla jsem brzo a doufala, že mě doktor Škvoreček třeba vezme dřív, čímž se sníží riziko, že přijdu pozdě do práce. V čekárně už bohužel sedělo asi deset pacientů zabraných do hovoru o tom, koho co bolí a kde ho píchá. Když mě za hodinu nato vedla sestra do ordinace, pípla mi esemeska od vedoucího mé směny: Muzete prijit hned? Doktor Škvoreček však zřejmě nikam nespěchal. Nalil mi šálek čaje, opřel se v křesle a sdělil mi, že se v mém těle zakořenila nemoc. Je dost pravděpodobné, že do roka, plus minus měsíc, umřu. Zasypal mě letáčky o zvládání žalu a nabídl se, že s mou rodinou promluví sám, aby mi to břímě ulehčil. Doktor Škvoreček byl velký makabrózní básník. Barvitě mi vylíčil všechny způsoby, kterými moje tělo samo sebe pohltí  rozpadající se kosti, selhání ledvin, smrt krvácením do mozku nebo plísňovou infekcí. Pokyvovala jsem, abych mu dala najevo, jak si jeho upřímnosti vážím, a ručičky hodin přitom minuly chvíli, kdy mi začínala směna. \n",
      "\n"
     ]
    }
   ],
   "source": [
    "for ukazka in ukazky:\n",
    "    for isbn, text in ukazka.items():\n",
    "        for odstavec in text:\n",
    "            if re.search(r' hodi\\w{1,5} \\w{3,15} minu', odstavec):\n",
    "                print(f\"{ukazka['isbn']}: {odstavec} \\n\")"
   ]
  },
  {
   "cell_type": "code",
   "execution_count": 157,
   "id": "8225cee6-2484-42a9-b5ce-3372b6698c90",
   "metadata": {},
   "outputs": [
    {
     "name": "stdout",
     "output_type": "stream",
     "text": [
      "9788020614605: Ach, mé milované město Plzeň. Narodil jsem se zde, pak se naši odstěhovali, a nakonec jsem se s velkou pompou vrátil v patnácti, abych zde vystudoval střední školu. Opět mě zasáhla vlna nostalgie. Vlak projížděl tunelem a já věděl, že za deset minut jsme na nádraží. Tuhle cestu znám zpaměti. Jezdil jsem tudy čtyři roky dvakrát týdně. Někdy jsem se přistihl, že znám trasu až s chorobnou přesností. Z hlavy jsem dokázal odhadnout, v kolik kam dorazíme, znal jsem každý dům kolem trati, každý strom, kaluž, výmol v poli. Ne, není to normální. \n",
      "\n",
      "9788026438540: Dříve něco takového nebylo. Přišli jste domů a museli jste rozdělat oheň, nasypat uhlí a za čtyřicet minut jste mohli pít horký čaj, přibližuje mistr dávné časy. \n",
      "\n",
      "9788026510949: Skočím jen pro chleba, za pět minut jsem zpátky, slibuje žena a mizí v útrobách supermarketu. Tušíte, jak to dopadne? Asi ano Moc nepřeženu, když budu tvrdit, že se vrátí tak za půl hodiny či hodinu  záleží na velikosti obchodu  s plným nákupním košíkem. A je docela možné, že na ten chleba i zapomene. Zato objeví spoustu dalších užitečných věcí! \n",
      "\n",
      "9788026718390: Ženský svět je tak malinký, že ten mužský by se do něj nevešel. Zrovna před chvílí jsem na manželovu otázku, co bude k večeři, odpověděla, že lovecká: Dnes nevařím, něco si cestou domů ulov. Víc informací se mi do sdělení nevešlo, ale i tak podle mého dostal všechny, které potřeboval. Když jsem se já tuhle dožadovala rady, jaký kávovar koupit do naší minikuchyně, vzal to přes vzpouru otroků na kávových plantážích až po kvalitu vody v patagonském ledovci Perito Moreno a jako bonus přidal odborný exkurz do výroby plastových obalů. Myslím, že neopomněl ani své oblíbené téma černých děr ve vesmíru, ale nejsem si jistá. Moje pozornost už byla značně otupělá. Poděkovala jsem za cenné rady i rozšíření mých obzorů úzkých jako předporodní džíny, zapnula počítač a objednala malý a červený. Vysloužila jsem si tím sice školení o riziku impulzivního jednání, ale taková už jsem. Když si všimnu chuchvalců prachu na podlaze, impulzivně popadnu vysavač a za dvacet minut je doma čisto. Když si jich všimne on, rozvážně rozebere a vyčistí stroj, ale už ho nedá zpět do kupy, protože se mu mezitím  nejspíš v černé díře  ztratil jeden šroubek. To ho tak vytočí, že odkráčí na pivo. Tam s přáteli probere situaci na trhu malých pivovarů a taky technologii vysávání prachu, aby se intelektuálně i jinak osvěžen vrátil do uklizeného bytu. Stačilo se podívat pod skříň. Mužský svět je fakt ohromný. A tak není divu, že se v něm občas něco ztratí. Včetně nás, přízemních holek. \n",
      "\n",
      "9788027702794: Řekl jsi nám to sám. Mluvili jsme spolu dlouho, někdy i celé dny. Stál jsi uprostřed sálu. Oči zavřené a kolem jen horký vzduch. No a pak jsi byl najednou tady, na rozžhavené silnici, a za pár minut jsme přijeli my. \n",
      "\n",
      "9788076502314: S vlasy provlhlými podzimním deštěm jsem dosedl na zadní sedadlo trolejbusu a ztěžka vydechl. Byl jsem uřícený, protože jsem spoj do nedalekého centra Ostravy musel jako obvykle dobíhat. Stávalo se mi to běžně, když jsem ještě chodil do školy. Od sedmé třídy základní školy jsem jezdil každé ráno půl hodiny skoro přes celou Ostravu a tahle ranní rutina mi zůstala až do maturity. Takže když jsem viděl dvě stě metrů před sebou trolejbus, jak dobrzďuje na zastávku, mozek dal nohám pokyn k běhu a já začal bez rozmýšlení utíkat, i když jsem vlastně nikam nepospíchal. Ale v souladu se zvykem ze školních let jsem dřív konal, než abych zvážil, zda to mám zapotřebí, když za pět minut jede další spoj. \n",
      "\n",
      "9788076624580: Začali nás svírat víc a víc, nemohl jsem se ani hnout, jenom jsem lapal po dechu. Někteří zalézali pod zaparkovaná auta. Oslepovali nás světlomety a do toho řvaly motory najíždějících transportérů. A z megafonů na nás hulákali, ať se rozejdeme, kreténi. Lidi panikařili a křičeli, holky brečely. Potom mě to vyhodilo dopředu, před policajtský kordon. Tam bylo volněji, ale za pár minut jako by do těch štítonošů někdo pustil elektriku, na povel se hnuli dopředu a dali se do nás obuškama hlava nehlava jako smyslů zbavení. Mlátili sedící na zemi, holky i staré lidi. Vypustili služební psy bez náhubků a nechali je vrhat se, na koho chtěli. Kurva fakt peklo. \n",
      "\n",
      "9788087431245: Nechala jsem ho půl hodiny trápit, pak jsem se oblékla a za dvacet minut jsem byla v hotelu na náměstí. \n",
      "\n"
     ]
    }
   ],
   "source": [
    "for ukazka in ukazky:\n",
    "    for isbn, text in ukazka.items():\n",
    "        for odstavec in text:\n",
    "            if re.search(r'za .{1,9} minut j', odstavec):\n",
    "                print(f\"{ukazka['isbn']}: {odstavec} \\n\")"
   ]
  },
  {
   "cell_type": "code",
   "execution_count": 139,
   "id": "5fc86ac8-3a82-456d-b796-d8d66e96e880",
   "metadata": {},
   "outputs": [
    {
     "name": "stdout",
     "output_type": "stream",
     "text": [
      "9788020619792: Silnice E12 nedaleko Boru, 21. srpna 1982, 18:02 41 před \n",
      "\n",
      "9788020619792: Obvodní oddělení VB Bor, 21. srpna 1982, 18:07 41 před \n",
      "\n",
      "9788024287478: Čas: 07:20, 8. srpna 2021 \n",
      "\n",
      "9788024299952: 3. května 2022, 10:15, Schönefeld \n",
      "\n",
      "9788024649412: 7Martin C. Putna, Václav Havel. Duchovní portrét v rámu české kultury 20. století Prague: Knihovna Václava Havla, 2011; James Pontuso, Václav Havel: Civic Responsibility in the Postmodern Age Lanham: Rowman  Littlefield, 2004; Daniel Brennan, The Political Thought of Václav Havel: Philosophical Influences and Contemporary Applications Leiden: Brill, 2017; Dirk Mathias Dalberg, Der Versuch, in der Wahrheit zu leben: Václav Havels Politikbegriff und politische Strategie in den Jahren 1969 bis 1989 Stuttgart: Ibidem, 2014; Martin Bermeiser, Václav Havels Reden: Aspekte einer holistichen Rhetorik Stuttgart: Ibidem, 2017; Geneviève EvenGranboulan, Václav Havel, président philosophe La TourdAigues: Éditions de lAube, 2003. For biographies, see Carol Rocamora, Acts of Courage: Václav Havels Life in the Theatre Hanover, NH: Smith  Kraus Global, 2005 and Michael Žantovský, Havel: A Life New York: Grove Atlantic, 2014. For review essays of biographies of Havel, see Miloš Havelka, Úspěchy a neúspěchy v nejednoznačnych konstelacích. Pět biografií Václava Havla, Soudobé dějiny 22:34 2015, 474502, and Václav Sixta, Václav Havel a jeho zápletky, Historie  Otázky  Problémy 8:1 2016, 159170. \n",
      "\n",
      "9788025732601: 13. 12:05 ESTELA \n",
      "\n",
      "9788025732601: 14. 12:05 HENRY \n",
      "\n",
      "9788025738887: Je mi jedno, že se na mě všichni, kteří si taky vyšli na čerstvý vzduch, významně otáčí. Stejně tak zapomínám, že jsem měla být dávno ve vysílání. Zprávy začínaly ve dvanáct. Můj mobil ukazuje přesně 12:03, když se rozletí dveře a na terasu vběhne vyděšená produkční Martina.   \n",
      "\n",
      "9788025744307: Jo, jsou tu divný lidi, volám. Šla jsem až za kopec, aby mě nikdo neviděl s telefonem. No já ti to nechtěl říkat, ale planetu zachraňujou jen divný lidi. Co děláš? Sedím a jím šunku. Taky bych si dala. Tady se jí jen kroupy s kroupama. Já ti tak závidím ten tvůj klid. Prostě sedíš a jíš šunku. Nevyčítáš si, že jíš zvíře. Máš čas jíst. Dovedeš si to dopřát. Tolik aspektů života, který já prostě neumím. Protože se ráda tejráš. Ostatně to já tak trochu taky, ozval se mi zase plavčík. Ten si s tebou ale krásně toxicky zahrává. Napsal: Proč jsme si tak dlouho nenapsali? Jak se máš? A co ty na to? Nic. Sedím tu, jím šunku, dívám se na tu zprávu a cítím prázdnotu. To je skoro báseň. No hele je to plavčík, já bych jeho rafinovanost nepřeceňovala. V kolik to napsal? 03:15.  \n",
      "\n",
      "9788026443247: Kolem 17:30 napsala do společného chatu, jestli s ní kamarádky nevyrazí někam ven, ale protože byl přece jen víkend Díkuvzdání, už měly všechny program. Domluvily si ale setkání na následující večer. To bylo naposled, co se Alexis někomu ozvala. \n",
      "\n",
      "9788026449119: Dění na křižovatce snímala otočná kamera. Kamerové záznamy byly obratem zajištěny. První výskyt podezřelého muže byl zaznamenán v 05:04:04 hodin. Na záběrech bylo vidět, jak přichází ke křižovatce od mostu Nad Nádražím. V čase 05:07:35 se v záběru objevila Táňa Bogdanová, která rovněž šla ze směru od vlakového nádraží. Kamera se mezitím otočila, a když opět zabrala prostor křižovatky, na monitoru počítače jsme spatřili, že muž opustil stanoviště u rozvaděče a vstupuje za poškozenou na přechod pro chodce. Táňa Bogdanová došla na konec přechodu, sledována v těsném závěsu pachatelem. Samotné místo, kde k napadení došlo, kamera bohužel nezabrala. Kamerový záznam z křižovatky nebyl v příliš dobré kvalitě, a navíc obraz byl černobílý. \n",
      "\n",
      "9788026449119: Na záznamu z kamery umístěné nejblíže vjezdu do Prazdroje bylo vidět, že v čase 05:10:12 hodin přibíhá podezřelý muž k bráně pivovaru. Bezprostředně za vjezdem zatočil vpravo. Zde ho zachytila druhá kamera. Pozorovali jsme, jak běží podél obvodové zdi, přičemž de facto kopíroval ulici. V čase 05:10:40 jej zachytila třetí kamera. Na záznamu jsme spatřili, jak přibíhá k betonovému výstupku u zdi a vylézá na něj. Hbitě přelezl na rozvodnou skříň a následně na obvodovou zeď. Zeď překonal a skočil do uzavřeného dvorku u bytového domu. Kamerové záznamy byly sice také černobílé, ale přece jen ve vyšší kvalitě než předchozí záznamy z křižovatky. Měli jsme tak k dispozici poměrně přesný popis podezřelého. Vysoký byl přibližně 165 až 170 cm. Ze záběrů bylo patrné, že má na sobě bundu nebo mikinu s kapucí přetaženou přes hlavu, takže do obličeje mu vidět nebylo. Tmavé volné kalhoty po bocích a na stehnech opatřené reflexními pruhy. Na zádech nesl batoh větších rozměrů. Z pohybů pachatele jsme usuzovali, že se jedná o poměrně mladého člověka. Věk jsme odhadli přibližně na 25 let. Místo, kde došlo k překonání obvodové zdi, bylo rovněž ohledáno. Na vrcholu zdi se technikovi podařilo zajistit tmavý lidský vlas. \n",
      "\n",
      "9788026721697: Ještě pořád má v tašce české noviny, které jí švagr koupil na nádraží. Jsou pomačkané a píše se v nich, že na vlastní žádost ze zdravotních důvodů odstoupil ministr školství a národní osvěty, v Ženevě se připravuje konference o odzbrojení, obec pražská veřejnosti sděluje, že ke dni 20. září 1924 bylo při pracích komunikačních zaměstnáno 359 dělníků, při pracích sadových 82, při čištění města 369. Třetího října bylo za účasti dvou ministrů slavnostně otevřeno BIO RADIO na Fochově třídě na Královských Vinohradech. Železniční doprava v Chebu je přerušena asi na tři týdny pro sesutí stráně a nedělní letenské derby SpartaSlavie se odehraje za dosavadního skóre 65:65 po 34 zápasech. Stav mače bude redakce oznamovat na vývěsní tabuli ve čtvrthodinových intervalech \n",
      "\n",
      "9788026723301: Tomáš rozklikl přílohu s informacemi o pátrání. Obsahovala jen několik málo podrobností, například o tom, že telefonní přístroj pohřešované se odmlčel přesně v 10:23 někde v místech, kde došlo k úmrtí jejího bratra. A také velmi aktuální fotku ztracené, pořídily ji její kamarádky o den dříve. Tomáš hned poznal kde. \n",
      "\n",
      "9788027800070: Toho dne v 10:30 přestala Švýcarská centrální banka držet frank, přestože se celé roky dušovala, že to nikdy neudělá. A právě z toho důvodu jsem v párech s frankem měl většinu kapitálu. A to nejen svého. Sešup to byl tak prudký, že brokeři měli skluz v plnění objednávek a většina obchodníků místo ztráty, kterou byli ochotni riskovat, zaznamenali ztrátu mnohonásobně vyšší. Bylo to takové jedenácté září světového tradingu. Krachovaly tisíce drobných obchodníků, hroutily se brokerské společnosti. \n",
      "\n",
      "9788027800070: V 10:30 jsem byl bohatý a perspektivní mladý muž. \n",
      "\n",
      "9788027800070: V 10:31 už jen mladý muž s dluhy a obří hypotékou. \n",
      "\n",
      "9788027800087: Hele, já nefetuju. Fakt. Ale když vyjdete v 04:45 z baráku a najednou vám cestu zahradí šest obrovských ovcí, které mají začerněné tváře a hladovým pohledem si přeměřují vašeho osmdesátikilového psa, asi není něco tak docela v pořádku. \n",
      "\n",
      "9788027801800: V nedělním čase 01:15 hod. procházela Husovými sady v pátém pražském obvodu dvacetiletá Eva. Poblíž vyústění do ulice Nad Popelkou k ní zezadu doběhl nějaký muž, hrubým trhnutím ji pootočil k sobě a jako nefalšovanou výhrůžku jí přiložil na levý bok nůž: \n",
      "\n",
      "9788027801800: Ještě ve stejný nedělní den, asi ve 23:45 hod., stála dvaadvacetiletá Marta na stanici autobusů ve Vršovicích. Najednou se v její blízkosti objevil neznámý muž. V pravé ruce držel dýku, levou objal dívku kolem ramen a sykl: \n",
      "\n",
      "9788072616008: Ani v moderních překladech Bible nenalezneme příliš výskytů slova úspěch. O to zajímavější je se na těch pár podívat a porovnat je s původními výrazy v předobrozeneckém výtisku. Zatímco v soudobé češtině můžeme například číst Já jsem Hospodin, tvůj Bůh, který tě učí úspěchu a vede tě po cestě, po níž bys jít měl Izaiáš 48:17, ve staročeštině nacházíme sousloví vyučující tě prospěšným věcem. Nebo Vyslal své posly do Egypta žádat o koně a o veliké vojsko. Ale copak uspěje? Ezechiel 17:15 je v původním textu zdaliž se mu dobře povede. A konečně úspěch ve větě Juda pomalu, ale jistě postupuje stále dál a má stále častější úspěchy 2. Makabejská 8:8 je ve starém vydání popsán slovy a že se mu častěji věci šťastně vedou. \n",
      "\n",
      "9788074564581: Bytová inteligentní jednotka byla vypnuta samotnou majitelkou bytu ve 22:15. \n",
      "\n",
      "9788074564581: Sáhl jsem po mobilu. Byl na něm čas 03:12 a pod časovým údajem blikal Safír. \n",
      "\n",
      "9788074565236: Peruti PAlfa, tady PAlfa 1, ozval se z rádia hlas korvetního kapitána Machovce. Zachytili jsme zprávu z Žiliny: Neznámá bitevní loď potvrzena jako nepřátelská, zahájila na Žilinu palbu ve 14:05. Žilina se ji chystá napadnout a zpomalit. \n",
      "\n",
      "9788074704840: Zaměstnanci Dílen Československých státních drah zastavili práci, nejprve začali o vzniklé situaci diskutovat v menších hloučcích na svých pracovištích a posléze se v 17:00 hodin všichni spontánně přesunuli do největšího oddělení Vozovka. Protestního shromáždění se účastnilo na 450 dělníků. Hlasitě se domáhali toho, aby jim byly kolující dohady o chystaných opatřeních vysvětleny oficiální cestou. Donutili tím truhláře Karla Holuba, jenž se rovněž zúčastnil inkriminované schůze v Nymburku, k tomu, aby porušil závazek mlčenlivosti a informoval stávkující kolegy o průběhu tamního jednání. Potvrzení dosavadních fám dělníky ještě více rozhořčilo. Začaly se ozývat výkřiky, že železničáři nyní přijdou o to, co si jejich otcové vybojovali.2 Toto protestní heslo názorným způsobem odhalovalo limity sociálněpolitické praxe poúnorové diktatury komunistické strany i jejího vztahu k průmyslovému dělnictvu. Dělníci se sice v každodenním životě chovali politicky loajálně a navenek se identifikovali s myšlenkou socialismu, činili tak ovšem pouze do té míry, do jaké jim tento systém přinášel výhody nebo alespoň nezpochybňoval práva dosažená dělnickým hnutím před únorem 1948. V opačném případě byli ochotni za své zájmy razantně protestovat. Existence represivního aparátu režimu je přitom ani v první polovině 50. let od podobného počínání nijak výrazně neodrazovala, protože nebyla primárně zaměřena proti ambicím jejich společenské skupiny.3 \n",
      "\n",
      "9788074704840: Průmyslové dělnictvo ostatně obyčejně usilovalo o taková řešení sociálních konfliktů, která bylo možno uskutečnit uvnitř rámce dobového politického systému. K prosazování svých požadavků proto dělníci namnoze užívali oficiální platformy a instituce.8 Rovněž stávkující osazenstvo Dílen ČSD v České Lípě zacílilo svůj odpor pragmatickým směrem. Učinilo vše nezbytné k tomu, aby jeho nesouhlas byl neprodleně tlumočen na ministerstvu a aby konflikt následně mohl být vyřešen prostřednictvím bilaterálního jednání. Po těchto krocích již nenásledovala žádná eskalace násilí ani politizace sporu ze strany dělníků. Právě naopak, na žádost hlavního inženýra závodu Ladislava Štýrského bylo další rokování odročeno do návratu delegace z Prahy a v 17:15 se zaměstnanci klidně rozešli na svá pracoviště. Stávka byla přerušena. \n",
      "\n",
      "9788074704840: Politické instituce tak paradoxně do dění v závodu začaly intervenovat až ve chvíli, kdy zde již žádné nepokoje neprobíhaly. Teprve ve 20:15 dorazil do dílen vedoucí tajemník okresního výboru KSČ v České Lípě František Hrdlička.9 Po jeho příjezdu se chování funkcionářů závodu začalo pozvolna měnit a klesla jejich vstřícnost ke stávkujícím dělníkům.  \n",
      "\n",
      "9788074704840: Funkcionáři závodní rady proto nakonec museli osobně přijít za dělníky do kotlárny a pokusit se je přesvědčit. Zaměstnancům vysvětlili, že sami zatím nedostali žádný pokyn, který by nově upravoval režijní výhody, a proto nemohou šířící se zvěsti potvrdit ani vyvrátit. Sdělili také stávkujícím, že celou záležitost bude možno kvalifikovaně vyřešit následujícího dne, kdy se do České Lípy dostaví pracovníci ministerstva železnic. Toto zdůvodnění dělníky uspokojilo a druhé kolo stávky díky tomu skončilo obnovením práce ve 22:00.  \n",
      "\n",
      "9788074704840: Následující den v pondělí 4. května 1953 probíhaly přípravy avizovaného slavnostního ceremoniálu, který se měl uskutečnit v 19:00 hodin v kulturním domě v České Lípě. Na místo se skutečně dostavila řada oficiálních hostů včetně zástupců vyšších odborových orgánů a ministerstva železnic. Řadoví železničáři však ke značnému překvapení organizátorů do kulturního domu vůbec nepřišli. Zaměstnanci dílen ČSD se totiž před zahájením ceremoniálu sami shromáždili na svém obvyklém místě v oddělení Vozovka a na protest proti chystaným škrtům režijních výhod se rozhodli oficiální akci bojkotovat. Odmítli se přesunout do kulturního domu, ačkoli k tomu byli opakovaně vyzýváni závodním rozhlasem. Své počínání zdůvodňovali tím, že zástupci ministerstva jsou přece povinni přijít jednat za dělníky, a nikoli obráceně. Zároveň se jakožto příslušníci manuálně pracující vrstvy společnosti výslovně pohrdlivě vyjadřovali o činovnících ministerstva, jejich přepychovém oblečení a buržoazně stylizovaném funkcionářském prostředí. Když byli shromáždění zaměstnanci vyzváni rozhlasem, aby se dostavili do kulturního domu, ozvaly se výkřiky, že mohou páni z ministerstva přijít také jednou za dělníky.13 \n",
      "\n",
      "9788074754159: Toho se Dittborn chytil a obrátil soupeřovu taktiku ve svůj prospěch. V emotivním projevu získal definitivně na svou stranu i ty nerozhodnuté hlasující, které třeba nepřesvědčil při předchozích strategických jednáních. Neváhal zdůraznit, že článek 2 stanov FIFA nabádá svěřovat velké akce zemím označeným za nerozvinuté. A jako dobrý psycholog vsadil právě na kartu malých a odvážných, kteří se nezaleknou žádného úkolu a svým entuziasmem vytvoří něco velkého. Na závěr použil citovanou větu, jíž budou později popsány ukazatele skóre, a Chile ve volbě zvítězila v poměru hlasů 32:12. Třináct delegátů se hlasování zdrželo, podle nedoložených historických soudů v odpověď na hrozby jihoamerických kolegů, že kontinent bude turnaj bojkotovat, budeli se opět konat v Evropě. \n",
      "\n",
      "9788075113276: Po dvou hodinách čekání zazvonil zvonek. Bylo 18:30 a za okny nádherný provoněný červnový podvečer.  \n",
      "\n",
      "9788075979384: Sedmý ročník 9. října 1881 se zapsal do historie tím, že poprvé zvítězil zraněný jezdec. Byl jím Hector Baltazzi, který si po pádu zlomil klíční kost, ale podařilo se mu na osmiletou klisnu Victorii znovu nasednout. Na stránkách časopisu Sport se poprvé v historii objevil čas vítěze: 10:45, 2 min. Ze čtyř účastníků doběhli tři, Victoria vyhrála o tři délky. \n",
      "\n",
      "9788076449428: Položí si ruku na tu tašku. Uklidňuje jej to. Slunce svítí. Koukne na mobil. Je 09:25. \n",
      "\n",
      "9788076501317: Odlet v 19:30 hod. z bratislavského letiště letadlem, které přiletělo z Moskvy, letadlo TU134. Let byl příjemný, ale nad Jugoslávií nás zasáhla bouřka. Let probíhal rychlostí 830 kmh. Ve výšce 10 000 metrů při venkovní teplotě  43 C. Dubrovník, přistání ve 20:43 hod. v letadle jsme dostali krásně zabalenou studenou večeři, limonádu, pivo a kávu. \n",
      "\n",
      "9788076502277: Rybičky dál pluly jedna za druhou. Pohodlnost jej stahovala ke dnu, lenost spouštěla kotvu. A přitom se necítil pohodlně. Spíš tak nějak opuštěný a sám. Zničehonic toužil po lepší společnosti, než byly čtyři stěny a televizní obrazovka. Podíval se na telefon, že by mohl obvolat pár přátel a zjistit, kde se poflakují. Bylo právě 22:22. \n",
      "\n",
      "9788076502277: Jenže mít štěstí a být šťastný jsou dvě rozdílné věci. Jobbi zaraženě zíral. Vypadal nepřítomně. Okamžitě si totiž vzpomněl na čas, který dal vzniknout myšlence, že by mohl jít na poker. Vzpomněl si na číselnou kombinaci na ciferníku telefonu, která jej přiměla vyrazit z domu rychleji, než si to stačil promyslet. Seděl znovu doma na pohovce a bylo právě 22:22. Nyní byl v kasinu a v sázce naslepo vyhrál s kombinací 2222. \n",
      "\n",
      "9788076502451: Drew komunikoval pouze přes chatovou aplikaci. Šla mu na ruku a napsala zprávu. Až po odeslání si všimla poslední aktivity jeho profilu. Bylo to dnes ve 14:54. Tou dobou s jistotou podřimovala v přehnaně klimatizovaném airbusu. \n",
      "\n",
      "9788076502451: Okamžitě přejela očima na hodiny  17:58. \n",
      "\n",
      "9788076502451: Bzučení domovního zvonku pronikalo až do jejího pokoje. Za oknem nic než tma. Červená čísla digitálních hodin na nočním stolku ukazovala 03:42. Měla své teorie o tom, kdo to mohl být. \n",
      "\n",
      "9788076502925: Ach, jak jsem slabá ve svých názorech, říkám si za 100 juanů pohodlně usazená v malém pickupu směřujíc k Velké zdi. Po tom, co nás řidič vysazuje v Jinshanlingu, domlouváme s ním i zpáteční cestu. Přesněji řečeno, myslíme si, že s ním domlouváme zpáteční cestu. Vyzvednout chceme v Simatai, kam chceme po zdi dojít pěšky cca 10 km. Pro jistotu píšu na papír dnešní datum, Simatai a čas vyzvednutí 16:30 hod. To musí přece každý pochopit. Tedy v případě, že si to dokáže přečíst. Ale jak se dozvědět, jestli řidič chápe, když tady nikdo nikomu nic nerozumí. Pořád cosi vykládá a divoce u toho rozhazuje rukama. Nakonec si strká lístek s instrukcemi do kapsy, kroutí hlavou a odchází. Nikdy víc jsme ho už neviděli. \n",
      "\n",
      "9788076836594: Jak moc jsem rád, že tu je bráška se mnou. On si ví vždycky rady. Co bych si tu bez něj počal? Musím přestat brečet. Hned. Jenom hloupé holky pláčou. Už brečím tak dlouho, že špatně vidím. Protože mám víčka tolik nateklá, že mi na oči zbyla jen malá skulinka. Zaklonil jsem hlavu k díře nad náma a začal jsem křičet. Křičím z plných plic. Až mě všechno uvnitř bolí. Možná mi i praskne hlava, jak moc řvu. Znova a znova a znova. Protože tam nahoře začal den a někdo nás přece musí slyšet. Já vím, kde jsme. Kousek od náměstí. Stačí pět minut a doběhneš k našemu domu. Jen pár kroků odtud je zeď. A za tou zdí je život. Silnice a chodník a také popelnice, kterou každé ráno vyváží velký popelářský vůz. Zdá se mi, že ho slyším až sem dolů. A slyším taky psa. Nevím, čí je, štěká už od včerejška. Určitě nás cítí, ví, že jsme tady. A za chvíli si ho někdo všimne. Jsou tu okna a balkony domů. Tam někde bydlí i naše paní učitelka, ta nás tu přece nenechá. A mamka nás uslyší už z dálky. Táta a babička. Tlustá poštovní doručovatelka, co se vleče pomaličku ulicí a čumí na všechno, co se hýbe, nikdy jí nic neuteče. Kluci z party. Ti to tu znají úplně nejlíp a určitě už nás hledají. Přijdou pro nás a zachrání nás odtud. Oni určitě přijdou.5. června, 23:50, místní policejní služebna \n",
      "\n",
      "9788076836594: Chlapci byli naposledy viděni dnes v 17:30, když spolu opouštěli otcovo bydliště za účelem her s kamarády. Jejich přesný cíl rodiče neznají.  \n",
      "\n",
      "9788076836594: Nevím, jestli se mi to zdá, nebo ne, ale slyším tam nahoře helikoptéru. Určitě to je helikoptéra. Létá pořád dokola už dlouhou dobu. Až budu velký, taky bych chtěl být pilotem a řídit letadla a helikoptéry. Myslíš, že to hledají nás? To je dobře. Moc dobře. Ale proč nás hledají helikoptérou? Z té nás přece neuvidí. My jsme tady dole. Halóóóóóó! My jsme tady doléééééé! To nevadí. Hlavně, že nás hledají. Táta a maminka nás hledají. Nejsou na nás naštvaní. Bráška měl pravdu, za chvíli už budeme doma. Teď se mi chce ale spát. Hrozně moc. Aspoň na chvilku. Však oni nás najdou, i když budu spát, že jo? Já vím, že jo.6. června, 19:30, veřejná výzva rodičů určená ztraceným chlapcům nebo jejich možným únoscům, převzata sdělovacími prostředky na celostátní úrovni \n",
      "\n",
      "9788076836594: 5. června, 23:50, místní policejní služebna \n",
      "\n",
      "9788076836594: 6. června, 19:30, veřejná výzva rodičů určená ztraceným chlapcům nebo jejich možným únoscům, převzata sdělovacími prostředky na celostátní úrovni \n",
      "\n",
      "9788088362081: 2 O nucené účasti na popravách se zmiňuje kronikář obce Petřvald: Den před popravou byla přivezena šibenice a místní četníci roznesli všem Polákům v obci úřední vyzvání, aby se v 10:30 hlásili i s dětmi staršími čtrnácti let na obecním úřadě. Dále vypráví Rudolf Popiolek, jeden z předvolaných: Shromáždilo se nás tam asi dvě stě. Nařídili nám, abychom šli k tramvajové zastávce u dolu Hedvika, kde se poprava konala. Kolem šibenice s pěti oprátkami stál kordon příslušníků SS se služebními psy. Toho dne, tedy 19. 9. 1944, bylo oběšeno pět mužů; podle svědků přihlíželo přibližně pět set lidí. Popravu byli nuceni vykonat vězni z Osvětimi, kam také byly ostatky popravených později odpoledne odvezeny. \n",
      "\n"
     ]
    }
   ],
   "source": [
    "for ukazka in ukazky:\n",
    "    for isbn, text in ukazka.items():\n",
    "        for odstavec in text:\n",
    "            if re.search(r' \\d\\d\\:\\d\\d[^\\d]', odstavec):\n",
    "                print(f\"{ukazka['isbn']}: {odstavec} \\n\")"
   ]
  }
 ],
 "metadata": {
  "kernelspec": {
   "display_name": "Python 3 (ipykernel)",
   "language": "python",
   "name": "python3"
  },
  "language_info": {
   "codemirror_mode": {
    "name": "ipython",
    "version": 3
   },
   "file_extension": ".py",
   "mimetype": "text/x-python",
   "name": "python",
   "nbconvert_exporter": "python",
   "pygments_lexer": "ipython3",
   "version": "3.12.3"
  }
 },
 "nbformat": 4,
 "nbformat_minor": 5
}
